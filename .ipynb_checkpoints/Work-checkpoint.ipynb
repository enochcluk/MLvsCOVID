{
 "cells": [
  {
   "cell_type": "code",
   "execution_count": 61,
   "metadata": {},
   "outputs": [
    {
     "name": "stdout",
     "output_type": "stream",
     "text": [
      "           county iso_3166_2_code  census_fips_code        date  retailandrec  \\\n",
      "0             NaN           US-CA               NaN  2020-02-15           1.0   \n",
      "1             NaN           US-CA               NaN  2020-02-16           5.0   \n",
      "2             NaN           US-CA               NaN  2020-02-17           9.0   \n",
      "3             NaN           US-CA               NaN  2020-02-18           0.0   \n",
      "4             NaN           US-CA               NaN  2020-02-19           0.0   \n",
      "...           ...             ...               ...         ...           ...   \n",
      "7338  Yuba County             NaN            6115.0  2020-06-19          -5.0   \n",
      "7339  Yuba County             NaN            6115.0  2020-06-20           1.0   \n",
      "7340  Yuba County             NaN            6115.0  2020-06-21          -1.0   \n",
      "7341  Yuba County             NaN            6115.0  2020-06-22          -6.0   \n",
      "7342  Yuba County             NaN            6115.0  2020-06-23          -6.0   \n",
      "\n",
      "      groceryandpharm  parks  transit  work  residential  \n",
      "0                 1.0   19.0      1.0  -1.0          0.0  \n",
      "1                 0.0   31.0      1.0  -1.0         -1.0  \n",
      "2                 1.0   44.0    -12.0 -38.0          8.0  \n",
      "3                 0.0   16.0      3.0   0.0          0.0  \n",
      "4                 0.0   13.0      1.0   0.0          0.0  \n",
      "...               ...    ...      ...   ...          ...  \n",
      "7338             10.0    NaN     -7.0 -31.0          7.0  \n",
      "7339             27.0    NaN      NaN -10.0          2.0  \n",
      "7340             29.0    NaN      NaN -14.0         -1.0  \n",
      "7341              9.0    NaN     -3.0 -33.0          7.0  \n",
      "7342              6.0    NaN     -7.0 -31.0          7.0  \n",
      "\n",
      "[7343 rows x 10 columns]\n",
      "Index(['date', 'county', 'fips', 'confirmed_cases', 'deaths',\n",
      "       'new_confirmed_cases', 'new_deaths'],\n",
      "      dtype='object')\n",
      "Index(['county', 'iso_3166_2_code', 'census_fips_code', 'date', 'retailandrec',\n",
      "       'groceryandpharm', 'parks', 'transit', 'work', 'residential'],\n",
      "      dtype='object')\n"
     ]
    },
    {
     "data": {
      "text/plain": [
       "<Figure size 1440x720 with 0 Axes>"
      ]
     },
     "metadata": {},
     "output_type": "display_data"
    }
   ],
   "source": [
    "import pandas as pd\n",
    "import matplotlib.pyplot as plt\n",
    "import seaborn as sns\n",
    "import numpy as np\n",
    "import sklearn as sk\n",
    "from sklearn.tree import DecisionTreeRegressor\n",
    "from sklearn.model_selection import train_test_split\n",
    "from sklearn.metrics import mean_absolute_error\n",
    "\n",
    "plt.figure(figsize=(20,10))\n",
    "print(camove)\n",
    "camove = pd.read_csv (r'C:/Users/enoch/Desktop/MLvsCOVID/californiamovement.csv')\n",
    "cadata = pd.read_csv(r'C:/Users/enoch/Desktop/MLvsCOVID/cadata.csv')\n",
    "camove=camove.rename(columns={\"sub_region_2\":\"county\",\"retail_and_recreation_percent_change_from_baseline\": \"retailandrec\",\"grocery_and_pharmacy_percent_change_from_baseline\": \"groceryandpharm\",\"parks_percent_change_from_baseline\":\"parks\",\"transit_stations_percent_change_from_baseline\":\"transit\",\"workplaces_percent_change_from_baseline\":\"work\",\"residential_percent_change_from_baseline\":\"residential\"})\n",
    "\n",
    "df = pd.DataFrame(camove, index=['date', 'county'])\n",
    "\n",
    "#df=camove.join(pd.DataFrame({''}))\n",
    "print(cadata.columns)\n",
    "print(camove.columns)\n",
    "#sns.lineplot(x=camove['date'], y=camove['retailandrec'],hue=camove['sub_region_2'])\n",
    "\n",
    "#sns.lineplot(x=camove['date'], y=camove['groceryandpharm'])\n",
    "#sns.lineplot(x=camove['date'], y=camove['parks'])\n",
    "#sns.lineplot(x=camove['date'], y=camove['transit'])\n",
    "#sns.lineplot(x=camove['date'], y=camove['work'])\n",
    "#sns.lineplot(x=camove['date'], y=camove['residential'])\n",
    "#sns.lineplot(x=cadata['date'], y=cadata['new_confirmed_cases'])\n",
    "\n",
    "plt.show()\n"
   ]
  }
 ],
 "metadata": {
  "kernelspec": {
   "display_name": "Python 3",
   "language": "python",
   "name": "python3"
  },
  "language_info": {
   "codemirror_mode": {
    "name": "ipython",
    "version": 3
   },
   "file_extension": ".py",
   "mimetype": "text/x-python",
   "name": "python",
   "nbconvert_exporter": "python",
   "pygments_lexer": "ipython3",
   "version": "3.7.6"
  }
 },
 "nbformat": 4,
 "nbformat_minor": 4
}
