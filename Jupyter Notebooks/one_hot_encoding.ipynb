{
 "cells": [
  {
   "cell_type": "code",
   "execution_count": 14,
   "metadata": {},
   "outputs": [],
   "source": [
    "import pandas as pd\n",
    "import matplotlib.pyplot as plt\n",
    "import seaborn as sns\n",
    "import numpy as np\n",
    "import sklearn as sk\n",
    "\n",
    "import sys\n",
    "import datetime as datetime\n",
    "from datetime import datetime as dt\n",
    "from datetime import timedelta as td\n",
    "from datetime import date as dater\n",
    "\n",
    "df = pd.read_csv(r'C:/Users/enoch/Desktop/MLvsCOVID/completedataset.csv')\n",
    "df=df.set_index(['date','county'])\n",
    "countypop=pd.read_csv(r'C:/Users/enoch/Desktop/MLvsCOVID/countypop.csv')\n",
    "countypop=countypop.set_index(['County'])\n"
   ]
  },
  {
   "cell_type": "code",
   "execution_count": 22,
   "metadata": {},
   "outputs": [
    {
     "name": "stdout",
     "output_type": "stream",
     "text": [
      "1671329\n",
      "                    retailandrec  groceryandpharm  parks  transit  work  \\\n",
      "date       county                                                         \n",
      "2020-02-20 Alameda           1.0              1.0   13.0      2.0   0.0   \n",
      "2020-02-21 Alameda           1.0              1.0    8.0     -1.0   3.0   \n",
      "2020-02-26 Alameda           2.0              2.0   20.0      3.0   2.0   \n",
      "2020-02-28 Alameda           3.0              5.0    8.0      0.0   4.0   \n",
      "2020-02-29 Alameda           2.0              7.0   14.0     -4.0   3.0   \n",
      "...                          ...              ...    ...      ...   ...   \n",
      "2020-07-06 Yuba             -7.0             13.0    NaN      1.0 -36.0   \n",
      "2020-07-07 Yuba             -2.0              9.0    NaN     -6.0 -32.0   \n",
      "2020-07-08 Yuba             -4.0              8.0    NaN     -9.0 -32.0   \n",
      "2020-07-09 Yuba             -7.0             17.0    NaN     -8.0 -33.0   \n",
      "2020-07-10 Yuba             -9.0             11.0    NaN     -8.0 -31.0   \n",
      "\n",
      "                    residential  confirmed_cases  deaths  new_confirmed_cases  \\\n",
      "date       county                                                               \n",
      "2020-02-20 Alameda          0.0                0       0                  0.0   \n",
      "2020-02-21 Alameda          0.0                0       0                  0.0   \n",
      "2020-02-26 Alameda         -1.0                0       0                  0.0   \n",
      "2020-02-28 Alameda          0.0                0       0                  0.0   \n",
      "2020-02-29 Alameda         -1.0                0       0                  0.0   \n",
      "...                         ...              ...     ...                  ...   \n",
      "2020-07-06 Yuba             7.0              139       2                 11.0   \n",
      "2020-07-07 Yuba             6.0              147       2                  8.0   \n",
      "2020-07-08 Yuba             7.0              154       3                  7.0   \n",
      "2020-07-09 Yuba             7.0              163       3                  9.0   \n",
      "2020-07-10 Yuba             8.0              180       3                 17.0   \n",
      "\n",
      "                    new_deaths   county      pop  \n",
      "date       county                                 \n",
      "2020-02-20 Alameda         0.0  Alameda  1671329  \n",
      "2020-02-21 Alameda         0.0  Alameda  1671329  \n",
      "2020-02-26 Alameda         0.0  Alameda  1671329  \n",
      "2020-02-28 Alameda         0.0  Alameda  1671329  \n",
      "2020-02-29 Alameda         0.0  Alameda  1671329  \n",
      "...                        ...      ...      ...  \n",
      "2020-07-06 Yuba            0.0     Yuba    78668  \n",
      "2020-07-07 Yuba            0.0     Yuba    78668  \n",
      "2020-07-08 Yuba            1.0     Yuba    78668  \n",
      "2020-07-09 Yuba            0.0     Yuba    78668  \n",
      "2020-07-10 Yuba            0.0     Yuba    78668  \n",
      "\n",
      "[6694 rows x 12 columns]\n"
     ]
    }
   ],
   "source": [
    "def adddelaycolumn():\n",
    "    relevantdate = df.index.tolist() \n",
    "\n",
    "    dchanges=[]\n",
    "    for item in relevantdate:\n",
    "        thing = df.loc[item]\n",
    "        county = item[1]\n",
    "        dchanges.append(countypop.loc[county].loc['Population'])\n",
    "    \n",
    "    df['pop']=dchanges\n",
    "    \n",
    "adddelaycolumn()   \n",
    "print (df)\n"
   ]
  },
  {
   "cell_type": "code",
   "execution_count": null,
   "metadata": {},
   "outputs": [],
   "source": [
    "OH_cols_train.index = X_train.index\n",
    "OH_cols_valid.index = X_valid.index\n",
    "\n",
    "# Remove categorical columns (will replace with one-hot encoding)\n",
    "num_X_train = X_train.drop(object_cols, axis=1)\n",
    "num_X_valid = X_valid.drop(object_cols, axis=1)\n",
    "\n",
    "# Add one-hot encoded columns to numerical features\n",
    "OH_X_train = pd.concat([num_X_train, OH_cols_train], axis=1)\n",
    "OH_X_valid = pd.concat([num_X_valid, OH_cols_valid], axis=1)\n"
   ]
  }
 ],
 "metadata": {
  "kernelspec": {
   "display_name": "Python 3",
   "language": "python",
   "name": "python3"
  },
  "language_info": {
   "codemirror_mode": {
    "name": "ipython",
    "version": 3
   },
   "file_extension": ".py",
   "mimetype": "text/x-python",
   "name": "python",
   "nbconvert_exporter": "python",
   "pygments_lexer": "ipython3",
   "version": "3.7.6"
  }
 },
 "nbformat": 4,
 "nbformat_minor": 4
}
