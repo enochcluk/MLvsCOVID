{
 "cells": [
  {
   "cell_type": "code",
   "execution_count": 2,
   "metadata": {},
   "outputs": [],
   "source": [
    "import pandas as pd\n",
    "import matplotlib.pyplot as plt\n",
    "import seaborn as sns\n",
    "import numpy as np\n",
    "\n",
    "import sys\n",
    "import datetime"
   ]
  },
  {
   "cell_type": "code",
   "execution_count": 1,
   "metadata": {},
   "outputs": [
    {
     "name": "stderr",
     "output_type": "stream",
     "text": [
      "  % Total    % Received % Xferd  Average Speed   Time    Time     Time  Current\n",
      "                                 Dload  Upload   Total   Spent    Left  Speed\n",
      "\n",
      "  0     0    0     0    0     0      0      0 --:--:-- --:--:-- --:--:--     0\n",
      "  0  253k    0     0    0     0      0      0 --:--:-- --:--:-- --:--:--     0\n",
      "100  253k  100  253k    0     0   313k      0 --:--:-- --:--:-- --:--:--  313k\n",
      "The process cannot access the file because it is being used by another process.\n"
     ]
    }
   ],
   "source": [
    "!curl https://raw.githubusercontent.com/datadesk/california-coronavirus-data/master/latimes-county-totals.csv > curleddata.csv\n",
    "!curl https://www.gstatic.com/covid19/mobility/Global_Mobility_Report.csv?cachebust=dfad08836e5fd8d1 > curledmobility.csv"
   ]
  },
  {
   "cell_type": "code",
   "execution_count": null,
   "metadata": {},
   "outputs": [],
   "source": [
    "\n",
    "#movement data starts feb 15\n",
    "gl=pd.read_csv(r'C:/Users/enoch/Desktop/MLvsCOVID/curledmobility.csv',low_memory=False)\n",
    "ca=gl[gl['country_region_code']=='US']\n",
    "ca= ca[ca['sub_region_1'].isnull()]\n",
    "ca.to_csv('states.csv')\n",
    "\n",
    "camove = pd.read_csv(r'C:/Users/enoch/Desktop/MLvsCOVID/states.csv')\n",
    "cadata = pd.read_csv(r'C:/Users/enoch/Desktop/MLvsCOVID/curleddata.csv')\n",
    "camove=camove.rename(columns={\"sub_region_2\":\"county\",\"retail_and_recreation_percent_change_from_baseline\": \"retailandrec\",\"grocery_and_pharmacy_percent_change_from_baseline\": \"groceryandpharm\",\"parks_percent_change_from_baseline\":\"parks\",\"transit_stations_percent_change_from_baseline\":\"transit\",\"workplaces_percent_change_from_baseline\":\"work\",\"residential_percent_change_from_baseline\":\"residential\"})\n",
    "camove=camove.drop(columns=['Unnamed: 0','country_region_code','country_region','sub_region_1','iso_3166_2_code','census_fips_code'])\n",
    "cadata=cadata.drop(columns=['fips'])\n",
    "\n",
    "\n",
    "camove=camove.dropna(subset=['county'])\n",
    "thing=[]\n",
    "for county in camove['county']:\n",
    "    thing.append(county[:county.index('County')-1])\n",
    "camove.drop(columns=['county'])\n",
    "camove['county']=thing\n",
    "camove=camove.set_index(['county','date'])\n",
    "cadata=cadata.set_index(['county','date'])\n",
    "cadata=cadata.sort_index()\n",
    "#print(camove)\n",
    "#print(cadata)\n",
    "new_df = camove.merge(cadata,how='inner', left_index=True, right_index=True)\n",
    "\n",
    "\n",
    "\n",
    "new_df.to_csv(\"allstates.csv\")\n",
    "\n",
    "print(new_df)\n"
   ]
  }
 ],
 "metadata": {
  "kernelspec": {
   "display_name": "Python 3",
   "language": "python",
   "name": "python3"
  },
  "language_info": {
   "codemirror_mode": {
    "name": "ipython",
    "version": 3
   },
   "file_extension": ".py",
   "mimetype": "text/x-python",
   "name": "python",
   "nbconvert_exporter": "python",
   "pygments_lexer": "ipython3",
   "version": "3.7.6"
  }
 },
 "nbformat": 4,
 "nbformat_minor": 4
}
