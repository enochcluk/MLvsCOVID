{
 "cells": [
  {
   "cell_type": "code",
   "execution_count": null,
   "metadata": {},
   "outputs": [],
   "source": [
    "plt.figure(figsize=(20,10))\n",
    "ladata=cadata[cadata['county']=='Los Angeles']\n",
    "sns.lineplot(x=la['date'], y=la['retailandrec'])\n",
    "sns.lineplot(x=la['date'], y=la['groceryandpharm'])\n",
    "sns.lineplot(x=la['date'], y=la['parks'])\n",
    "sns.lineplot(x=la['date'], y=la['transit'])\n",
    "sns.lineplot(x=la['date'], y=la['work'])\n",
    "sns.lineplot(x=la['date'], y=la['residential'])"
   ]
  },
  {
   "cell_type": "code",
   "execution_count": null,
   "metadata": {},
   "outputs": [],
   "source": [
    "corr=new_df.corr()\n",
    "mask = np.zeros(corr.shape, dtype=bool)\n",
    "mask[np.triu_indices(len(mask))] = True\n",
    "plt.figure(figsize=(10,10))\n",
    "\n",
    "thing = sns.heatmap(\n",
    "    corr, \n",
    "    vmin=-1, vmax=1, center=0,\n",
    "    cmap='rainbow',\n",
    "    square=True,\n",
    "    mask=mask\n",
    ")\n",
    "thing.set_xticklabels(labels=thing.get_xticklabels(),rotation=80)\n"
   ]
  }
 ],
 "metadata": {
  "kernelspec": {
   "display_name": "Python 3",
   "language": "python",
   "name": "python3"
  },
  "language_info": {
   "codemirror_mode": {
    "name": "ipython",
    "version": 3
   },
   "file_extension": ".py",
   "mimetype": "text/x-python",
   "name": "python",
   "nbconvert_exporter": "python",
   "pygments_lexer": "ipython3",
   "version": "3.7.6"
  }
 },
 "nbformat": 4,
 "nbformat_minor": 4
}
